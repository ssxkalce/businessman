{
  "nbformat": 4,
  "nbformat_minor": 0,
  "metadata": {
    "colab": {
      "name": "businessman.ipynb",
      "provenance": [],
      "collapsed_sections": []
    },
    "kernelspec": {
      "name": "python3",
      "display_name": "Python 3"
    },
    "language_info": {
      "name": "python"
    }
  },
  "cells": [
    {
      "cell_type": "code",
      "source": [
        "import numpy as np\n",
        "import matplotlib.pyplot as plt\n",
        "import time"
      ],
      "metadata": {
        "id": "k11N4_ZJQm-J"
      },
      "execution_count": 1,
      "outputs": []
    },
    {
      "cell_type": "code",
      "execution_count": 2,
      "metadata": {
        "id": "YGm_lRsMMlUl"
      },
      "outputs": [],
      "source": [
        "#création des données\n",
        "n = 6\n",
        "villes =[i for i in range(n)]\n",
        "arcs = [(i,j) for i in range(n) for j in range(n) if i!=j]\n"
      ]
    },
    {
      "cell_type": "code",
      "source": [
        "#création de coordonées\n",
        "np.random.seed(0)\n",
        "x = np.random.rand(n)*100\n",
        "y = np.random.rand(n)*100"
      ],
      "metadata": {
        "id": "7ZdqK258PGCT"
      },
      "execution_count": 3,
      "outputs": []
    },
    {
      "cell_type": "code",
      "source": [
        "#création de matrice de distance\n",
        "distance={(i,j):np.hypot(x[i]-x[j],y[i]-y[j])for i,j in arcs}"
      ],
      "metadata": {
        "id": "-EFDHb4VP8Um"
      },
      "execution_count": 4,
      "outputs": []
    },
    {
      "cell_type": "code",
      "source": [
        "#graphiques des données\n",
        "plt.figure(figsize=(10,6))\n",
        "plt.scatter(x,y,color='blue')\n",
        "\n",
        "#écrire le nom des villes nœuds\n",
        "\n",
        "for n in range(len(x)):\n",
        "  plt.annotate(str(n),xy=(x[n],y[n]),xytext =(x[n]-1,y[n]-2),color='red')\n",
        "\n",
        "plt.xlabel(\"Coord X\")\n",
        "plt.ylabel(\"Coord Y\")\n",
        "plt.title(\"2-opt Recherche Locale\")\n",
        "\n",
        "\n",
        "plt.show()"
      ],
      "metadata": {
        "colab": {
          "base_uri": "https://localhost:8080/",
          "height": 404
        },
        "id": "Lpj2cQJnQbOE",
        "outputId": "b13bdb2d-f565-47aa-fda8-b84dfb5b0553"
      },
      "execution_count": 5,
      "outputs": [
        {
          "output_type": "display_data",
          "data": {
            "image/png": "[encoded data removed]",
            "text/plain": [
              "<Figure size 720x432 with 1 Axes>"
            ]
          },
          "metadata": {
            "needs_background": "light"
          }
        }
      ]
    },
    {
      "cell_type": "code",
      "source": [
        "#Fonction de plus proches voisins\n",
        "def Nearest_Neighbor(starting_node,villes,distance):\n",
        "  NN=[starting_node]\n",
        "  n=len(villes)\n",
        "\n",
        "  while len(NN)<n:\n",
        "    k=NN[-1]\n",
        "    nn={(k,j):distance[(k,j)] for j in villes if j!=k and j not in NN}\n",
        "    nn.items()\n",
        "    new=min(nn.items(),key = lambda x:x[1])\n",
        "    NN.append(new[0][1])\n",
        "  NN.append(starting_node)\n",
        "\n",
        "  return NN"
      ],
      "metadata": {
        "id": "rDU5MatCbn-Y"
      },
      "execution_count": 6,
      "outputs": []
    },
    {
      "cell_type": "code",
      "source": [
        "def total_distance(liste,distance):\n",
        "  dist=0\n",
        "  for n in range(len(liste)-1):\n",
        "    i=liste[n]\n",
        "    j=liste[n+1]\n",
        "    dist= dist+distance[(i,j)]\n",
        "  return dist\n",
        "  "
      ],
      "metadata": {
        "id": "y69YKE-DcvZI"
      },
      "execution_count": 7,
      "outputs": []
    },
    {
      "cell_type": "markdown",
      "source": [
        " **2-Opt**"
      ],
      "metadata": {
        "id": "kpMTAYEfS_On"
      }
    },
    {
      "cell_type": "code",
      "source": [
        "# création de la solution initiale avec NN\n",
        "starting_node =3\n",
        "NN =Nearest_Neighbor(starting_node,villes,distance)\n",
        "NN"
      ],
      "metadata": {
        "colab": {
          "base_uri": "https://localhost:8080/"
        },
        "id": "Rwi9RH-iRd73",
        "outputId": "a32d13e4-1214-4ba8-d99d-00b5ea513807"
      },
      "execution_count": 8,
      "outputs": [
        {
          "output_type": "execute_result",
          "data": {
            "text/plain": [
              "[3, 0, 5, 4, 2, 1, 3]"
            ]
          },
          "metadata": {},
          "execution_count": 8
        }
      ]
    },
    {
      "cell_type": "code",
      "source": [
        "# distance de la solution NN\n",
        "d=total_distance(NN,distance)\n",
        "d"
      ],
      "metadata": {
        "colab": {
          "base_uri": "https://localhost:8080/"
        },
        "id": "BEhzgUSabmsy",
        "outputId": "17ac7ee6-31cc-4508-fd51-b45f482b3099"
      },
      "execution_count": 9,
      "outputs": [
        {
          "output_type": "execute_result",
          "data": {
            "text/plain": [
              "144.95824312990248"
            ]
          },
          "metadata": {},
          "execution_count": 9
        }
      ]
    },
    {
      "cell_type": "code",
      "source": [
        "# lis le NN\n",
        "NN[3]"
      ],
      "metadata": {
        "colab": {
          "base_uri": "https://localhost:8080/"
        },
        "id": "DdTCOpUid7d2",
        "outputId": "e229798a-44d8-4198-84b8-cd025c79fb03"
      },
      "execution_count": 10,
      "outputs": [
        {
          "output_type": "execute_result",
          "data": {
            "text/plain": [
              "4"
            ]
          },
          "metadata": {},
          "execution_count": 10
        }
      ]
    },
    {
      "cell_type": "code",
      "source": [
        "#Coordonnes x d'un élément de NN\n",
        "x[NN[2]]"
      ],
      "metadata": {
        "colab": {
          "base_uri": "https://localhost:8080/"
        },
        "id": "cccXvqF0eODK",
        "outputId": "c4395d11-8c87-4177-efc4-7c8267f022df"
      },
      "execution_count": 11,
      "outputs": [
        {
          "output_type": "execute_result",
          "data": {
            "text/plain": [
              "64.58941130666561"
            ]
          },
          "metadata": {},
          "execution_count": 11
        }
      ]
    },
    {
      "cell_type": "code",
      "source": [
        "# graphique de la solution et des données\n",
        "plt.figure(figsize=(10,6))\n",
        "plt.scatter(x,y,color='blue')\n",
        "\n",
        "#écrire le nom des villes nœuds\n",
        "\n",
        "for n in range(len(x)):\n",
        "  plt.annotate(str(n),xy=(x[n],y[n]),xytext =(x[n]-1,y[n]-1),color='red')\n",
        "\n",
        "#graphique de solution\n",
        "for n in range(len(NN)-1):\n",
        "  plt.plot([x[NN[n]],x[NN[n+1]]],[y[NN[n]],y[NN[n+1]]],color='green')\n",
        "\n",
        "\n",
        "plt.xlabel(\"Coord X\")\n",
        "plt.ylabel(\"Coord Y\")\n",
        "plt.title(\"2-opt Recherche Locale\")\n",
        "\n",
        "plt.show()\n"
      ],
      "metadata": {
        "colab": {
          "base_uri": "https://localhost:8080/",
          "height": 404
        },
        "id": "pX33bqmsecys",
        "outputId": "a8e14a56-de04-4291-969a-f64274db3245"
      },
      "execution_count": 12,
      "outputs": [
        {
          "output_type": "display_data",
          "data": {
            "image/png": "[encoded data removed]",
            "text/plain": [
              "<Figure size 720x432 with 1 Axes>"
            ]
          },
          "metadata": {
            "needs_background": "light"
          }
        }
      ]
    },
    {
      "cell_type": "code",
      "source": [
        "#implémentation de la fonction 2-opt\n",
        "def LS_2opt(NN,distance):\n",
        "    min_change =0\n",
        "    for i in range(len(NN)-2):\n",
        "        for j in range (i+2,len(NN)-1):\n",
        "            cout_actuel= distance[(NN[i],NN[i+1])]+distance[(NN[j],NN[j+1])]\n",
        "            cout_nouveau= distance[(NN[i],NN[j])]+distance[(NN[i+1],NN[j+1])]\n",
        "            change=cout_nouveau-cout_actuel\n",
        "            \n",
        "            if change<min_change:\n",
        "                min_change = change\n",
        "                min_i =i\n",
        "                min_j =j\n",
        "    if min_change < 0:\n",
        "        NN[min_i+1:min_j+1] = NN[min_i+1:min_j+1][::-1]\n",
        "    \n",
        "    return NN\n",
        " "
      ],
      "metadata": {
        "id": "g3-twjgLg8Lw"
      },
      "execution_count": 13,
      "outputs": []
    },
    {
      "cell_type": "code",
      "source": [
        "#exécuter \n",
        "heure_debut = time.time()\n",
        "\n",
        "\n",
        "\n",
        "changement = 1\n",
        "count = 0\n",
        "sol =NN.copy()\n",
        "while changement!=0:\n",
        "\n",
        "    count = count +1\n",
        "    \n",
        "    initial = total_distance(sol,distance)\n",
        "    \n",
        "    sol = LS_2opt(sol,distance).copy()\n",
        "    final =total_distance(sol,distance)\n",
        "\n",
        "    changement =np.abs(final-initial)\n",
        "\n",
        "heure_fin=time.time()\n",
        "\n",
        "print(\"Solution 2 opt:\",sol)\n",
        "print(\"Distance totale:\",total_distance(sol,distance))\n",
        "print(\"temps:\",heure_debut-heure_fin)\n",
        "print(\"nb d'itérations:\",count)\n"
      ],
      "metadata": {
        "colab": {
          "base_uri": "https://localhost:8080/"
        },
        "id": "_M147uoWi-AH",
        "outputId": "f7a0d13a-7f6f-4635-e1a4-59d283fcc562"
      },
      "execution_count": 14,
      "outputs": [
        {
          "output_type": "stream",
          "name": "stdout",
          "text": [
            "Solution 2 opt: [3, 0, 4, 2, 1, 5, 3]\n",
            "Distance totale: 135.8139138286956\n",
            "temps: -0.00045561790466308594\n",
            "nb d'itérations: 3\n"
          ]
        }
      ]
    },
    {
      "cell_type": "code",
      "source": [
        "#Visualiser la solution\n",
        "\n",
        "plt.figure(figsize=(10,6))\n",
        "plt.scatter(x,y,color='blue')\n",
        "\n",
        "#écrire le nom des villes nœuds\n",
        "\n",
        "for n in range(len(x)):\n",
        "  plt.annotate(str(n),xy=(x[n],y[n]),xytext =(x[n]-1,y[n]-1),color='red')\n",
        "\n",
        "#graphique de solution\n",
        "for n in range(len(sol)-1):\n",
        "  plt.plot([x[sol[n]],x[sol[n+1]]],[y[sol[n]],y[sol[n+1]]],color='green')\n",
        "\n",
        "\n",
        "plt.xlabel(\"Coord X\")\n",
        "plt.ylabel(\"Coord Y\")\n",
        "plt.title(\"2-opt Recherche Locale Solution\")\n",
        "\n",
        "plt.show()\n",
        "\n"
      ],
      "metadata": {
        "colab": {
          "base_uri": "https://localhost:8080/",
          "height": 404
        },
        "id": "ang-pDEwpP4C",
        "outputId": "4f57f41f-035a-4f7c-f097-a890d29090ad"
      },
      "execution_count": 15,
      "outputs": [
        {
          "output_type": "display_data",
          "data": {
            "image/png": "[encoded data removed]",
            "text/plain": [
              "<Figure size 720x432 with 1 Axes>"
            ]
          },
          "metadata": {
            "needs_background": "light"
          }
        }
      ]
    }
  ]
}